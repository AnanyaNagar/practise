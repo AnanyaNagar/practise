{
 "cells": [
  {
   "cell_type": "code",
   "execution_count": 5,
   "metadata": {},
   "outputs": [
    {
     "name": "stdout",
     "output_type": "stream",
     "text": [
      "[['a', 2, 100], ['c', 2, 27], ['d', 1, 25], ['b', 1, 19], ['e', 3, 15]]\n",
      "Result seq: ['c', 'a', 'e']\n"
     ]
    }
   ],
   "source": [
    "#Job sequencing Greedy\n",
    "\n",
    "def jobSched(arr, t):\n",
    "    # sort the array based on the value\n",
    "    arr.sort(reverse = True, key = lambda x:x[2])\n",
    "    print(arr)\n",
    "    \n",
    "    \n",
    "    n = len(arr)\n",
    "    \n",
    "    job = [False] * t\n",
    "    \n",
    "    for i in range(n):\n",
    "        for j in range(arr[i][1]-1, -1, -1):\n",
    "            if(job[j] == False):\n",
    "                job[j] = arr[i][0]\n",
    "                break\n",
    "                \n",
    "    print(\"Result seq:\", job)\n",
    "\n",
    "arr = [['a', 2, 100],  # Job Array\n",
    "       ['b', 1, 19],\n",
    "       ['c', 2, 27],\n",
    "       ['d', 1, 25],\n",
    "       ['e', 3, 15]]\n",
    "\n",
    "jobSched(arr, 3)"
   ]
  },
  {
   "cell_type": "code",
   "execution_count": 32,
   "metadata": {},
   "outputs": [
    {
     "name": "stdout",
     "output_type": "stream",
     "text": [
      "[[30, 120], [20, 100], [10, 60], [40, 40]]\n",
      "20\n",
      "100.0\n"
     ]
    }
   ],
   "source": [
    "# knapsack greedy\n",
    "def max_profit(wt, val, cap):\n",
    "    n = len(wt)\n",
    "    arr = []\n",
    "    \n",
    "    for i in range(n):\n",
    "        arr.append([wt[i], val[i]])\n",
    "        \n",
    "    arr.sort(reverse = True, key = lambda x: x[1])\n",
    "    print(arr)\n",
    "        \n",
    "    profit = 0\n",
    "    i = 0\n",
    "    while cap:\n",
    "        if(cap > arr[i][0]):\n",
    "            cap -= arr[i][0]\n",
    "            profit += arr[i][1]\n",
    "        else:\n",
    "            fraction = cap / arr[i][0]\n",
    "            profit = fraction * arr[i][1]\n",
    "            break\n",
    "            \n",
    "        print(cap)\n",
    "        i += 1\n",
    "            \n",
    "    print(profit)\n",
    "            \n",
    "\n",
    "\n",
    "wt = [10, 40, 20, 30]\n",
    "val = [60, 40, 100, 120]\n",
    "\n",
    "cap = 50\n",
    "\n",
    "max_profit(wt, val, cap)"
   ]
  },
  {
   "cell_type": "code",
   "execution_count": 12,
   "metadata": {},
   "outputs": [
    {
     "name": "stdout",
     "output_type": "stream",
     "text": [
      "Following is the Breadth-First Search\n",
      "5 3 7 2 4 8 "
     ]
    }
   ],
   "source": [
    "graph = {\n",
    "  '5' : ['3','7'],\n",
    "  '3' : ['2', '4'],\n",
    "  '7' : ['8'],\n",
    "  '2' : [],\n",
    "  '4' : ['8'],\n",
    "  '8' : []\n",
    "}\n",
    "\n",
    "visited = [] # List for visited nodes.\n",
    "queue = []     #Initialize a queue\n",
    "\n",
    "def bfs(visited, graph, node): #function for BFS\n",
    "    visited.append(node)\n",
    "    queue.append(node)\n",
    "\n",
    "    while queue:          # Creating loop to visit each node\n",
    "        m = queue.pop(0) \n",
    "        print (m, end = \" \") \n",
    "\n",
    "        for neighbour in graph[m]:\n",
    "            if neighbour not in visited:\n",
    "                visited.append(neighbour)\n",
    "                queue.append(neighbour)\n",
    "\n",
    "# Driver Code\n",
    "print(\"Following is the Breadth-First Search\")\n",
    "bfs(visited, graph, '5')    # function calling"
   ]
  },
  {
   "cell_type": "code",
   "execution_count": 27,
   "metadata": {},
   "outputs": [
    {
     "data": {
      "text/plain": [
       "6"
      ]
     },
     "execution_count": 27,
     "metadata": {},
     "output_type": "execute_result"
    }
   ],
   "source": [
    "def ks(wt, val, cap):\n",
    "    arr = [[-1 for i in range(cap+1)] for i in range(len(wt))]\n",
    "    \n",
    "    return ksH(wt, val, cap, arr, 0)\n",
    "    \n",
    "def ksH(wt, val, cap, arr, i):\n",
    "    if(cap <= 0 or i >= len(wt)):\n",
    "        return 0\n",
    "    \n",
    "    if(arr[i][cap] != -1):\n",
    "        return arr[i][cap]\n",
    "    \n",
    "    profit1 = 0\n",
    "    if(cap >= wt[i]):\n",
    "        profit1 = val[i] + ksH(wt, val, cap - wt[i], arr, i+1)\n",
    "        \n",
    "    profit2 = ksH(wt, val, cap, arr, i+1)\n",
    "    \n",
    "    arr[i][cap] = max(profit1, profit2)\n",
    "    \n",
    "    return arr[i][cap]\n",
    "    \n",
    "\n",
    "wt = [3, 4, 6, 5]\n",
    "val = [2, 3, 1, 4]\n",
    "capacity = 8\n",
    "\n",
    "ks(wt, val, capacity)"
   ]
  },
  {
   "cell_type": "code",
   "execution_count": 29,
   "metadata": {},
   "outputs": [
    {
     "data": {
      "text/plain": [
       "'Found at index 2'"
      ]
     },
     "execution_count": 29,
     "metadata": {},
     "output_type": "execute_result"
    }
   ],
   "source": [
    "# linear search\n",
    "def ls(arr, key):\n",
    "    for i in range(len(arr)):\n",
    "        if(arr[i] == key):\n",
    "            return f\"Found at index {i}\"\n",
    "        \n",
    "    return \"Not found\"\n",
    "\n",
    "ls([2, 6, 9, 1 ,0], 9)"
   ]
  },
  {
   "cell_type": "code",
   "execution_count": 34,
   "metadata": {},
   "outputs": [
    {
     "data": {
      "text/plain": [
       "'Found at 4'"
      ]
     },
     "execution_count": 34,
     "metadata": {},
     "output_type": "execute_result"
    }
   ],
   "source": [
    "# binary search\n",
    "def bs(arr, key):\n",
    "    l = 0\n",
    "    h = len(arr) - 1\n",
    "    while(l <= h):\n",
    "        mid = (l + h) // 2\n",
    "        if(arr[mid] == key):\n",
    "            return f\"Found at {mid}\"\n",
    "        elif(arr[mid] < key):\n",
    "            l = mid + 1\n",
    "        else:\n",
    "            h = mid - 1\n",
    "            \n",
    "    return \"Not Found\"\n",
    "\n",
    "bs([1, 2, 3, 4, 5, 6], 5)"
   ]
  },
  {
   "cell_type": "code",
   "execution_count": 37,
   "metadata": {},
   "outputs": [
    {
     "data": {
      "text/plain": [
       "'Found at 0'"
      ]
     },
     "execution_count": 37,
     "metadata": {},
     "output_type": "execute_result"
    }
   ],
   "source": [
    "# interpoation search\n",
    "def its(arr, key):\n",
    "    l = 0\n",
    "    h = len(arr) - 1\n",
    "    while(l <= h):\n",
    "        mid = l + ((h - l) // (arr[h] - arr[l]) * (key - arr[l]))\n",
    "        if(arr[mid] == key):\n",
    "            return f\"Found at {mid}\"\n",
    "        elif(arr[mid] < key):\n",
    "            l = mid + 1\n",
    "        else:\n",
    "            h = mid - 1\n",
    "            \n",
    "    return \"Not Found\"\n",
    "\n",
    "its([1, 2, 3, 4, 5, 6, 7], 1)"
   ]
  },
  {
   "cell_type": "code",
   "execution_count": 42,
   "metadata": {},
   "outputs": [
    {
     "name": "stdout",
     "output_type": "stream",
     "text": [
      "Sorted array: [1, 2, 3, 4]\n"
     ]
    }
   ],
   "source": [
    "# bubble sort\n",
    "\n",
    "def bblsrt(arr):\n",
    "    for i in range(len(arr) - 1):\n",
    "        for j in range(0, len(arr) - i - 1):\n",
    "            if(arr[j] > arr[j+1]):\n",
    "                arr[j], arr[j+1] = arr[j+1] , arr[j]\n",
    "                \n",
    "    print(f\"Sorted array: {arr}\")\n",
    "    \n",
    "bblsrt([3, 2, 1, 4])"
   ]
  },
  {
   "cell_type": "code",
   "execution_count": 51,
   "metadata": {},
   "outputs": [
    {
     "name": "stdout",
     "output_type": "stream",
     "text": [
      "[0, 1, 3, 6, 7]\n"
     ]
    }
   ],
   "source": [
    "# selection sort\n",
    "\n",
    "def ss(arr):\n",
    "    for i in range(len(arr)):\n",
    "        min_id = i\n",
    "        for j in range(i, len(arr)):\n",
    "            if arr[j] <= arr[min_id]:\n",
    "                min_id = j\n",
    "        arr[i], arr[min_id] = arr[min_id], arr[i]\n",
    "        \n",
    "    print(arr)\n",
    "        \n",
    "        \n",
    "ss([3, 6, 1, 7, 0])"
   ]
  },
  {
   "cell_type": "code",
   "execution_count": 53,
   "metadata": {},
   "outputs": [
    {
     "name": "stdout",
     "output_type": "stream",
     "text": [
      "[1, 2, 3, 4, 5, 6]\n"
     ]
    }
   ],
   "source": [
    "# Insertion sort\n",
    "\n",
    "def insrt(arr):\n",
    "    for i in range(1, len(arr)):\n",
    "        j = i\n",
    "        while(j > 0 and arr[j - 1] > arr[j]):\n",
    "            arr[j], arr[j-1] = arr[j-1], arr[j]\n",
    "            j -= 1\n",
    "            \n",
    "    print(arr)\n",
    "    \n",
    "insrt([6, 5, 4, 3, 2, 1])"
   ]
  },
  {
   "cell_type": "code",
   "execution_count": 54,
   "metadata": {},
   "outputs": [
    {
     "ename": "SyntaxError",
     "evalue": "invalid syntax (<ipython-input-54-efc0c3cfcaa6>, line 8)",
     "output_type": "error",
     "traceback": [
      "\u001b[1;36m  File \u001b[1;32m\"<ipython-input-54-efc0c3cfcaa6>\"\u001b[1;36m, line \u001b[1;32m8\u001b[0m\n\u001b[1;33m    arr[]\u001b[0m\n\u001b[1;37m        ^\u001b[0m\n\u001b[1;31mSyntaxError\u001b[0m\u001b[1;31m:\u001b[0m invalid syntax\n"
     ]
    }
   ],
   "source": [
    "# merge sort\n",
    "def merge(arr, i, j):\n",
    "    mid = (i+j) // 2\n",
    "    \n",
    "    k = mid + 1\n",
    "    while(i <= mid and k <= j):\n",
    "        if(arr[i] > arr[j]):\n",
    "            arr[]\n",
    "\n",
    "def mergeSort(arr, i, j):\n",
    "    \n",
    "    if len(arr) <= 1:\n",
    "        return arr\n",
    "    \n",
    "    mid = (i+j) // 2\n",
    "    mergeSort(arr, i, mid)\n",
    "    mergeSort(arr, mid + 1, j)\n",
    "    \n",
    "    merge(arr, i, j)\n",
    "    "
   ]
  },
  {
   "cell_type": "code",
   "execution_count": 74,
   "metadata": {},
   "outputs": [
    {
     "name": "stdout",
     "output_type": "stream",
     "text": [
      "[1, 2, 8, 6, 7] 2\n",
      "[1, 2, 8, 6, 7] 0\n",
      "[1, 2, 8, 6, 7] 1\n",
      "[1, 2, 8, 6, 7] 3\n"
     ]
    }
   ],
   "source": [
    "# quick sort\n",
    "\n",
    "def partition(arr, start, end):\n",
    "    pid = start\n",
    "    \n",
    "    while start <= end:\n",
    "        if(arr[start] >= arr[pid]):\n",
    "            start += 1\n",
    "        else:\n",
    "            arr[pid], arr[start] = arr[start], arr[pid]\n",
    "            pid = pid + 1\n",
    "            start += 1\n",
    "            \n",
    "    return pid\n",
    "\n",
    "\n",
    "def qs(arr, start, end):\n",
    "    if(start < end):\n",
    "        p = partition(arr, start, end)\n",
    "        print(arr, p)\n",
    "        qs(arr, start, p)\n",
    "        qs(arr, p+1, end)\n",
    "        \n",
    "arr =  [6, 7, 8, 1, 2]  \n",
    "qs(arr, 0, len(arr) - 1)"
   ]
  },
  {
   "cell_type": "code",
   "execution_count": 2,
   "metadata": {},
   "outputs": [
    {
     "data": {
      "text/plain": [
       "'\\n1. bfs\\n2. dfs\\n3. quicksort\\n4. matrix chain\\n5. heap\\n'"
      ]
     },
     "execution_count": 2,
     "metadata": {},
     "output_type": "execute_result"
    }
   ],
   "source": [
    "\"\"\"\n",
    "1. bfs :)\n",
    "2. dfs :)\n",
    "3. quicksort :)\n",
    "4. matrix chain :)\n",
    "5. heap :)\n",
    "\"\"\""
   ]
  },
  {
   "cell_type": "code",
   "execution_count": 12,
   "metadata": {},
   "outputs": [
    {
     "name": "stdout",
     "output_type": "stream",
     "text": [
      "5 3 7 2 4 8 "
     ]
    }
   ],
   "source": [
    "# bfs\n",
    "def bfs(graph, visited, node):\n",
    "    \n",
    "    visited.append(node)\n",
    "    queue.append(node)\n",
    "    while(queue):\n",
    "        val = queue.pop(0)\n",
    "        print(val, end = \" \")\n",
    "        \n",
    "        for child in graph[val]:\n",
    "            if child not in visited:\n",
    "                visited.append(child)\n",
    "                queue.append(child)\n",
    "                \n",
    "                \n",
    "graph = {\n",
    "  '5' : ['3','7'],\n",
    "  '3' : ['2', '4'],\n",
    "  '7' : ['8'],\n",
    "  '2' : [],\n",
    "  '4' : ['8'],\n",
    "  '8' : []\n",
    "}\n",
    "\n",
    "visited = []\n",
    "queue = []\n",
    "\n",
    "bfs(graph, visited, \"5\")\n",
    "   "
   ]
  },
  {
   "cell_type": "code",
   "execution_count": 15,
   "metadata": {},
   "outputs": [
    {
     "name": "stdout",
     "output_type": "stream",
     "text": [
      "5 3 2 4 8 7 "
     ]
    }
   ],
   "source": [
    "# dfs\n",
    "\n",
    "def dfs(graph, visited, node):\n",
    "    \n",
    "    if node not in visited:\n",
    "        visited.add(node)\n",
    "        print(node, end = \" \")\n",
    "        \n",
    "        for neighbours in graph[node]:\n",
    "            dfs(graph, visited, neighbours)\n",
    "\n",
    "graph = {\n",
    "  '5' : ['3','7'],\n",
    "  '3' : ['2', '4'],\n",
    "  '7' : ['8'],\n",
    "  '2' : [],\n",
    "  '4' : ['8'],\n",
    "  '8' : []\n",
    "}\n",
    "\n",
    "visited = set()\n",
    "dfs(graph, visited, \"5\")"
   ]
  },
  {
   "cell_type": "code",
   "execution_count": 18,
   "metadata": {},
   "outputs": [],
   "source": [
    "# matrix chain\n",
    "import sys\n",
    "\n",
    "def mchain(arr, i, j):\n",
    "    if i==j:\n",
    "        return 0\n",
    "    \n",
    "    _min = sys.maxsize\n",
    "    \n",
    "    for k in range(i, j):\n",
    "        count = (mchain(arr, i, k) + mchain(arr, k+1, j) + arr[i-1] * arr[k] * arr[j])\n",
    "        \n",
    "        if count < _min:\n",
    "            _min = count\n",
    "            \n",
    "    return _min"
   ]
  },
  {
   "cell_type": "code",
   "execution_count": 19,
   "metadata": {},
   "outputs": [
    {
     "data": {
      "text/plain": [
       "30"
      ]
     },
     "execution_count": 19,
     "metadata": {},
     "output_type": "execute_result"
    }
   ],
   "source": [
    "mchain([1, 2, 3, 4, 3], 1, 4)"
   ]
  },
  {
   "cell_type": "code",
   "execution_count": 20,
   "metadata": {},
   "outputs": [
    {
     "name": "stdout",
     "output_type": "stream",
     "text": [
      "[1, 2, 10, 12, 30, 34]\n"
     ]
    }
   ],
   "source": [
    "def heapify(arr, n, i):\n",
    "    largest = i\n",
    "    l = 2 * i + 1\n",
    "    r = 2 * i + 2\n",
    "    \n",
    "    if l < n and arr[largest] < arr[l]:\n",
    "        largest = l\n",
    "        \n",
    "    if r<n and arr[largest] < arr[r]:\n",
    "        largest = r\n",
    "        \n",
    "    if largest != i:\n",
    "        arr[i], arr[largest] = arr[largest], arr[i]\n",
    "        heapify(arr, n, largest)\n",
    "    \n",
    "def heapSort(arr):\n",
    "    n = len(arr)\n",
    "    \n",
    "    for i in range(n//2 - 1, -1, -1):\n",
    "        heapify(arr, n, i)\n",
    "        \n",
    "    for i in range(n-1, 0, -1):\n",
    "        arr[i], arr[0] = arr[0], arr[i]\n",
    "        heapify(arr, i, 0)\n",
    "        \n",
    "        \n",
    "arr = [34, 10, 12, 2, 1, 30]\n",
    "heapSort(arr)\n",
    "print(arr)"
   ]
  },
  {
   "cell_type": "code",
   "execution_count": null,
   "metadata": {},
   "outputs": [],
   "source": []
  }
 ],
 "metadata": {
  "kernelspec": {
   "display_name": "Python 3",
   "language": "python",
   "name": "python3"
  },
  "language_info": {
   "codemirror_mode": {
    "name": "ipython",
    "version": 3
   },
   "file_extension": ".py",
   "mimetype": "text/x-python",
   "name": "python",
   "nbconvert_exporter": "python",
   "pygments_lexer": "ipython3",
   "version": "3.8.3"
  }
 },
 "nbformat": 4,
 "nbformat_minor": 4
}
